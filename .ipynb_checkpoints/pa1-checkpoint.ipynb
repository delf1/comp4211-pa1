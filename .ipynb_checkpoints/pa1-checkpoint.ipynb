{
 "cells": [
  {
   "cell_type": "markdown",
   "metadata": {},
   "source": [
    "# COMP4211 Programming Assignment 1\n",
    "**IMRAN, Shayan**<br />\n",
    "**20316792**<br />\n",
    "[simran@connect.ust.hk](mailto:simran@connect.ust.hk)\n",
    "<br/>\n",
    "\n",
    "---"
   ]
  },
  {
   "cell_type": "markdown",
   "metadata": {},
   "source": [
    "### Load the datasets from the provided npz files\n",
    "Also define a function for timing functions"
   ]
  },
  {
   "cell_type": "code",
   "execution_count": 1,
   "metadata": {},
   "outputs": [],
   "source": [
    "import numpy as np\n",
    "import time\n",
    "np.random.seed(12)\n",
    "\n",
    "datasets = {}\n",
    "datasets[\"fifa\"] = np.load(\"./datasets/fifa.npz\")\n",
    "datasets[\"finance\"] = np.load(\"./datasets/finance.npz\")\n",
    "datasets[\"orbits\"] = np.load(\"./datasets/orbits.npz\")\n",
    "\n",
    "# second order function that runs the function in the argument, prints out the time taken for the function to run and returns the result \n",
    "# of the function\n",
    "def timedFunc(function, *params):\n",
    "    start = time.time()\n",
    "    if params != None:\n",
    "        x = function(*params)\n",
    "    end = time.time()\n",
    "    print(\"Time taken by function \" + function.__name__ +\": \" + str(end - start))\n",
    "    return x"
   ]
  },
  {
   "cell_type": "markdown",
   "metadata": {},
   "source": [
    "---\n",
    "## Linear Regression\n",
    "### Define functions to perform linear regression with the following parameters:\n",
    "1. fit_intercept = True\n",
    "2. normalize = True\n",
    "\n",
    "The regressors X will be normalized before regression by subtracting the mean and dividing by the l2-norm.\n",
    "Also define a function to plot error histograms that plots 250 bins each of size 0.035/250 = 0.0014"
   ]
  },
  {
   "cell_type": "code",
   "execution_count": 2,
   "metadata": {},
   "outputs": [],
   "source": [
    "import sklearn.linear_model\n",
    "import sklearn.metrics\n",
    "import matplotlib\n",
    "import matplotlib.pyplot as plt\n",
    "\n",
    "def linearRegression(train_X, train_Y, test_X, test_Y):\n",
    "    model = sklearn.linear_model.LinearRegression(fit_intercept=True)\n",
    "    model.fit(train_X, train_Y)\n",
    "    train_pred = model.predict(train_X)\n",
    "    test_pred = model.predict(test_X)\n",
    "    \n",
    "    return {\"train_pred\": train_pred,\n",
    "            \"test_pred\": test_pred,\n",
    "            \"train_mse\": sklearn.metrics.mean_squared_error(train_Y, train_pred), \n",
    "            \"test_mse\": sklearn.metrics.mean_squared_error(test_Y, test_pred),\n",
    "            \"train_r2\": sklearn.metrics.r2_score(train_Y, train_pred),\n",
    "            \"test_r2\": sklearn.metrics.r2_score(test_Y, test_pred)}\n",
    "\n",
    "def plotErrorHistogram(pred, actual, title=None):\n",
    "    pred_test_tuples = zip(pred, actual)\n",
    "    squared_errors = [(i[0] - i[1])**2 for i in pred_test_tuples]\n",
    "    plt.hist(squared_errors, bins=np.linspace(0, 0.035, 250), label=\"Squared Error\")\n",
    "    plt.title(title)\n",
    "    plt.legend(loc='best')\n",
    "    \n",
    "def plotResidualScatter(pred, actual, title=None):\n",
    "    plt.title(title)\n",
    "    vals = [[i[0], i[0] - i[1]] for i in zip(pred, actual)]\n",
    "    plt.scatter([i[0] for i in vals],[i[1] for i in vals], s=4)"
   ]
  },
  {
   "cell_type": "markdown",
   "metadata": {},
   "source": [
    "### Perform linear regression on all three datasets"
   ]
  },
  {
   "cell_type": "code",
   "execution_count": 3,
   "metadata": {},
   "outputs": [
    {
     "name": "stdout",
     "output_type": "stream",
     "text": [
      "Time taken by function linearRegression: 0.019989490509033203\n",
      "Time taken by function linearRegression: 0.0029990673065185547\n",
      "Time taken by function linearRegression: 0.003998994827270508\n"
     ]
    }
   ],
   "source": [
    "fifa_lin_reg = timedFunc(linearRegression, \n",
    "                         datasets[\"fifa\"][\"train_X\"],\n",
    "                         datasets[\"fifa\"][\"regression_train_Y\"],\n",
    "                         datasets[\"fifa\"][\"test_X\"],\n",
    "                         datasets[\"fifa\"][\"regression_test_Y\"])\n",
    "\n",
    "finance_lin_reg = timedFunc(linearRegression, \n",
    "                            datasets[\"finance\"][\"train_X\"],\n",
    "                            datasets[\"finance\"][\"regression_train_Y\"],\n",
    "                            datasets[\"finance\"][\"test_X\"],\n",
    "                            datasets[\"finance\"][\"regression_test_Y\"])\n",
    "\n",
    "orbits_lin_reg = timedFunc(linearRegression,\n",
    "                           datasets[\"orbits\"][\"train_X\"],\n",
    "                           datasets[\"orbits\"][\"regression_train_Y\"],\n",
    "                           datasets[\"orbits\"][\"test_X\"],\n",
    "                           datasets[\"orbits\"][\"regression_test_Y\"])"
   ]
  },
  {
   "cell_type": "code",
   "execution_count": null,
   "metadata": {},
   "outputs": [
    {
     "data": {
      "text/html": [
       "<div>\n",
       "<style scoped>\n",
       "    .dataframe tbody tr th:only-of-type {\n",
       "        vertical-align: middle;\n",
       "    }\n",
       "\n",
       "    .dataframe tbody tr th {\n",
       "        vertical-align: top;\n",
       "    }\n",
       "\n",
       "    .dataframe thead th {\n",
       "        text-align: right;\n",
       "    }\n",
       "</style>\n",
       "<table border=\"1\" class=\"dataframe\">\n",
       "  <thead>\n",
       "    <tr style=\"text-align: right;\">\n",
       "      <th></th>\n",
       "      <th>train_mse</th>\n",
       "      <th>test_mse</th>\n",
       "      <th>train_r2</th>\n",
       "      <th>test_r2</th>\n",
       "    </tr>\n",
       "  </thead>\n",
       "  <tbody>\n",
       "    <tr>\n",
       "      <th>Fifa</th>\n",
       "      <td>3.373700e-03</td>\n",
       "      <td>3.305544e-03</td>\n",
       "      <td>0.838373</td>\n",
       "      <td>0.842251</td>\n",
       "    </tr>\n",
       "    <tr>\n",
       "      <th>Finance</th>\n",
       "      <td>9.557832e-12</td>\n",
       "      <td>9.462171e-12</td>\n",
       "      <td>1.000000</td>\n",
       "      <td>1.000000</td>\n",
       "    </tr>\n",
       "    <tr>\n",
       "      <th>Orbits</th>\n",
       "      <td>5.115185e-03</td>\n",
       "      <td>4.999975e-03</td>\n",
       "      <td>0.686264</td>\n",
       "      <td>0.695042</td>\n",
       "    </tr>\n",
       "  </tbody>\n",
       "</table>\n",
       "</div>"
      ],
      "text/plain": [
       "            train_mse      test_mse  train_r2   test_r2\n",
       "Fifa     3.373700e-03  3.305544e-03  0.838373  0.842251\n",
       "Finance  9.557832e-12  9.462171e-12  1.000000  1.000000\n",
       "Orbits   5.115185e-03  4.999975e-03  0.686264  0.695042"
      ]
     },
     "execution_count": 4,
     "metadata": {},
     "output_type": "execute_result"
    }
   ],
   "source": [
    "import pandas as pd\n",
    "\n",
    "columns = list(list(fifa_lin_reg.keys())[2:])\n",
    "vals = []\n",
    "vals.append(list(fifa_lin_reg.values())[2:])\n",
    "vals.append(list(finance_lin_reg.values())[2:])\n",
    "vals.append(list(orbits_lin_reg.values())[2:])\n",
    "\n",
    "df = pd.DataFrame(vals, index=[\"Fifa\", \"Finance\", \"Orbits\"], columns=columns)\n",
    "df.head()"
   ]
  },
  {
   "cell_type": "markdown",
   "metadata": {},
   "source": [
    "As can be observed from the table, linear regression results in a very low mean squared error for the Finance training and test data, and a perfect r2 score suggesting the regression perfectly fits the data. The Fifa dataset fits the data well with a low mean squared error and r2 scores that are higher than 80% on both the training set and the test set. The Orbits dataset has a mean squared error and an r2 score that is less than the other two datasets indicating lower performance. The r2 scores on their own may not be enough, however, to check the performance of the model. For this reason, residual vs fitted value scatter plots for the regression are provided below for further insight."
   ]
  },
  {
   "cell_type": "markdown",
   "metadata": {},
   "source": [
    "### Residual vs Fits Plots"
   ]
  },
  {
   "cell_type": "code",
   "execution_count": null,
   "metadata": {},
   "outputs": [
    {
     "data": {
      "image/png": "[encoded data removed]",
      "text/plain": [
       "<Figure size 1296x288 with 1 Axes>"
      ]
     },
     "metadata": {
      "needs_background": "light"
     },
     "output_type": "display_data"
    },
    {
     "data": {
      "image/png": "[encoded data removed]",
      "text/plain": [
       "<Figure size 1296x216 with 1 Axes>"
      ]
     },
     "metadata": {
      "needs_background": "light"
     },
     "output_type": "display_data"
    },
    {
     "data": {
      "image/png": "[encoded data removed]",
      "text/plain": [
       "<Figure size 1296x216 with 1 Axes>"
      ]
     },
     "metadata": {
      "needs_background": "light"
     },
     "output_type": "display_data"
    }
   ],
   "source": [
    "plt.figure(figsize=(18,4))\n",
    "plt.ylabel('Residual')\n",
    "plt.xlabel('Fitted Value')\n",
    "plotResidualScatter(fifa_lin_reg[\"test_pred\"], datasets[\"fifa\"][\"regression_test_Y\"], \"Fifa\")\n",
    "\n",
    "plt.figure(figsize=(18,3))\n",
    "plt.ylabel('Residual')\n",
    "plt.xlabel('Fitted Value')\n",
    "plotResidualScatter(finance_lin_reg[\"test_pred\"], datasets[\"finance\"][\"regression_test_Y\"], \"Finance\")\n",
    "\n",
    "plt.figure(figsize=(18,3))\n",
    "plt.ylabel('Residual')\n",
    "plt.xlabel('Fitted Value')\n",
    "plotResidualScatter(orbits_lin_reg[\"test_pred\"], datasets[\"orbits\"][\"regression_test_Y\"], \"Orbits\")\n",
    "plt.show()"
   ]
  },
  {
   "cell_type": "markdown",
   "metadata": {},
   "source": [
    "The Finance dataset is perfectly modelled so all the points lie on the horizontal axis meaning that the predicted and actual values are all the same within a very small margin of error. This further proves that this dataset works extremely well with linear regression. The residual vs fits plots for the Fifa datasets shows that the residues are somewhat randomly distributed across the horizontal axis, which means the data is appropriate for modelling with linear regression. The plot for Orbits, however, does not show a very randomly distributed pattern, with y values showing an increasing trend from 0 to 0.5, and then a decreasing trend from 0.5 to 1. This indicates that linear regression may not be appropriate to model this data, a non linear model may have better performance."
   ]
  },
  {
   "cell_type": "markdown",
   "metadata": {},
   "source": [
    "### Plot the error histograms for linear regression on the training and test sets for each dataset"
   ]
  },
  {
   "cell_type": "code",
   "execution_count": null,
   "metadata": {},
   "outputs": [
    {
     "name": "stdout",
     "output_type": "stream",
     "text": [
      "Time taken by function plotErrorHistogram: 0.1249241828918457\n",
      "Time taken by function plotErrorHistogram: 0.11793375015258789\n",
      "Time taken by function plotErrorHistogram: 0.1689157485961914\n",
      "Time taken by function plotErrorHistogram: 0.11893081665039062\n",
      "Time taken by function plotErrorHistogram: 0.11691975593566895\n",
      "Time taken by function plotErrorHistogram: 0.11493349075317383\n"
     ]
    },
    {
     "data": {
      "image/png": "[encoded data removed]",
      "text/plain": [
       "<Figure size 1152x648 with 6 Axes>"
      ]
     },
     "metadata": {
      "needs_background": "light"
     },
     "output_type": "display_data"
    },
    {
     "name": "stdout",
     "output_type": "stream",
     "text": [
      "Time taken by function show: 2.750332832336426\n"
     ]
    }
   ],
   "source": [
    "plt.figure(figsize=(16,9))\n",
    "\n",
    "plt.subplot(\"231\")\n",
    "timedFunc(plotErrorHistogram, fifa_lin_reg[\"train_pred\"], datasets[\"fifa\"][\"regression_train_Y\"], \"fifa train\")\n",
    "plt.subplot(\"232\")\n",
    "timedFunc(plotErrorHistogram, finance_lin_reg[\"train_pred\"], datasets[\"finance\"][\"regression_train_Y\"], \"finance train\")\n",
    "plt.subplot(\"233\")\n",
    "timedFunc(plotErrorHistogram, orbits_lin_reg[\"train_pred\"], datasets[\"orbits\"][\"regression_train_Y\"], \"orbits train\")\n",
    "plt.subplot(\"234\")\n",
    "timedFunc(plotErrorHistogram, fifa_lin_reg[\"test_pred\"], datasets[\"fifa\"][\"regression_test_Y\"], \"fifa test\")\n",
    "plt.subplot(\"235\")\n",
    "timedFunc(plotErrorHistogram, finance_lin_reg[\"test_pred\"], datasets[\"finance\"][\"regression_test_Y\"], \"finance test\")\n",
    "plt.subplot(\"236\")\n",
    "timedFunc(plotErrorHistogram, orbits_lin_reg[\"test_pred\"], datasets[\"orbits\"][\"regression_test_Y\"], \"orbits test\")\n",
    "timedFunc(plt.show)"
   ]
  },
  {
   "cell_type": "markdown",
   "metadata": {},
   "source": [
    "The squared error histogram plots confirm that the regression is performing well as the majority of the points for all three datasets lie between 0 and 0.005, and a very large number for all three result in an error of zero. The Finance plot once again shows that this model behaves perfectly."
   ]
  },
  {
   "cell_type": "markdown",
   "metadata": {},
   "source": [
    "---\n",
    "## Logistic Regression\n",
    "### Define function for logistic regression with the following parameters:\n",
    "1. max_iter = 10,000\n",
    "2. tol = 1e-5\n",
    "3. random_state = 1\n",
    "4. learning rate = constant\n",
    "5. eta0=0.0011\n",
    "\n",
    "The initial learning rate eta0=0.0011 was found to be the best learning rate after testing several values."
   ]
  },
  {
   "cell_type": "code",
   "execution_count": null,
   "metadata": {},
   "outputs": [],
   "source": [
    "def logisticRegression(train_X, train_Y, test_X, test_Y):\n",
    "    model = sklearn.linear_model.SGDClassifier(loss='log', max_iter=10000, tol=1e-5, random_state=1, learning_rate='constant', eta0=0.0011)\n",
    "    model.fit(train_X, train_Y)\n",
    "    train_pred = model.predict(train_X)\n",
    "    test_pred = model.predict(test_X)\n",
    "    \n",
    "    return {\"train_pred\": train_pred,\n",
    "            \"test_pred\": test_pred,\n",
    "            \"test_accuracy\": sklearn.metrics.accuracy_score(test_Y, test_pred),\n",
    "            \"train_log_loss\": sklearn.metrics.log_loss(y_true=train_Y, y_pred=train_pred), \n",
    "            \"test_log_loss\": sklearn.metrics.log_loss(y_true=test_Y, y_pred=test_pred),\n",
    "            \"train_auc\": sklearn.metrics.roc_auc_score(train_Y, train_pred),\n",
    "            \"test_auc\": sklearn.metrics.roc_auc_score(test_Y, test_pred),\n",
    "            \"test_precision\": sklearn.metrics.precision_score(test_Y, test_pred),\n",
    "            \"test_recall\": sklearn.metrics.recall_score(test_Y, test_pred)}\n",
    "\n",
    "def plotConfusionMatrix(actual, predicted, title):\n",
    "    cm = sklearn.metrics.confusion_matrix(actual, predicted)\n",
    "    plt.imshow(cm, interpolation=\"nearest\", cmap=\"Pastel1\")\n",
    "    plt.title(title)\n",
    "    plt.colorbar()\n",
    "    tick_marks = np.arange(2)\n",
    "    plt.xticks(tick_marks, [\"0\", \"1\"])\n",
    "    plt.yticks(tick_marks, [\"0\", \"1\"])\n",
    "    plt.ylabel('Actual label')\n",
    "    plt.xlabel('Predicted label')\n",
    "    width, height = cm.shape\n",
    "    for x in range(width):\n",
    "        for y in range(height):\n",
    "            plt.annotate(str(cm[x][y]) + \" [\" + str(np.around(cm[x][y]/len(actual), 3)) + \"]\", xy=(y, x), \n",
    "            horizontalalignment='center',\n",
    "            verticalalignment='center',)\n"
   ]
  },
  {
   "cell_type": "markdown",
   "metadata": {},
   "source": [
    "### Perform logistic regression on all three datasets"
   ]
  },
  {
   "cell_type": "code",
   "execution_count": null,
   "metadata": {},
   "outputs": [
    {
     "name": "stdout",
     "output_type": "stream",
     "text": [
      "Time taken by function logisticRegression: 0.4699552059173584\n",
      "Time taken by function logisticRegression: 0.21189332008361816\n"
     ]
    }
   ],
   "source": [
    "fifa_log_reg = timedFunc(logisticRegression,\n",
    "                         datasets[\"fifa\"][\"train_X\"],\n",
    "                         datasets[\"fifa\"][\"classification_train_Y\"],\n",
    "                         datasets[\"fifa\"][\"test_X\"],\n",
    "                         datasets[\"fifa\"][\"classification_test_Y\"])\n",
    "\n",
    "finance_log_reg = timedFunc(logisticRegression, \n",
    "                            datasets[\"finance\"][\"train_X\"],\n",
    "                            datasets[\"finance\"][\"classification_train_Y\"],\n",
    "                            datasets[\"finance\"][\"test_X\"],\n",
    "                            datasets[\"finance\"][\"classification_test_Y\"])\n",
    "\n",
    "orbits_log_reg = timedFunc(logisticRegression, \n",
    "                           datasets[\"orbits\"][\"train_X\"],\n",
    "                           datasets[\"orbits\"][\"classification_train_Y\"],\n",
    "                           datasets[\"orbits\"][\"test_X\"],\n",
    "                           datasets[\"orbits\"][\"classification_test_Y\"])"
   ]
  },
  {
   "cell_type": "markdown",
   "metadata": {},
   "source": [
    "### Logistic Regression Metrics"
   ]
  },
  {
   "cell_type": "code",
   "execution_count": null,
   "metadata": {},
   "outputs": [],
   "source": [
    "columns = list(list(fifa_log_reg.keys())[2:])\n",
    "vals = []\n",
    "vals.append(list(fifa_log_reg.values())[2:])\n",
    "vals.append(list(finance_log_reg.values())[2:])\n",
    "vals.append(list(orbits_log_reg.values())[2:])\n",
    "\n",
    "df = pd.DataFrame(vals, index=[\"Fifa\", \"Finance\", \"Orbits\"], columns=columns)\n",
    "df.head()"
   ]
  },
  {
   "cell_type": "markdown",
   "metadata": {},
   "source": [
    "The logistic regression training results show that the Orbits dataset was modelled well with accuracy, precision and recall all greater than 96%."
   ]
  },
  {
   "cell_type": "markdown",
   "metadata": {},
   "source": [
    "### Plot confusion matrices for the training and test sets for all datasets"
   ]
  },
  {
   "cell_type": "code",
   "execution_count": null,
   "metadata": {},
   "outputs": [],
   "source": [
    "plt.figure(figsize=(16,9))\n",
    "\n",
    "plt.subplot(\"231\")\n",
    "timedFunc(plotConfusionMatrix, datasets[\"fifa\"][\"classification_train_Y\"], fifa_log_reg[\"train_pred\"], \"fifa train\")\n",
    "plt.subplot(\"234\")\n",
    "timedFunc(plotConfusionMatrix, datasets[\"fifa\"][\"classification_test_Y\"], fifa_log_reg[\"test_pred\"], \"fifa test\")\n",
    "plt.subplot(\"232\")\n",
    "timedFunc(plotConfusionMatrix, datasets[\"finance\"][\"classification_train_Y\"], finance_log_reg[\"train_pred\"], \"finance train\")\n",
    "plt.subplot(\"235\")\n",
    "timedFunc(plotConfusionMatrix, datasets[\"finance\"][\"classification_test_Y\"], finance_log_reg[\"test_pred\"], \"finance test\")\n",
    "plt.subplot(\"233\")\n",
    "timedFunc(plotConfusionMatrix, datasets[\"orbits\"][\"classification_train_Y\"], orbits_log_reg[\"train_pred\"], \"orbits train\")\n",
    "plt.subplot(\"236\")\n",
    "timedFunc(plotConfusionMatrix, datasets[\"orbits\"][\"classification_test_Y\"], orbits_log_reg[\"test_pred\"], \"orbits test\")\n",
    "timedFunc(plt.show)"
   ]
  },
  {
   "cell_type": "markdown",
   "metadata": {},
   "source": [
    "---\n",
    "## Neural Network Model\n",
    "### Define function for neural network model training with the following parameters:\n",
    "1. activation function = relu\n",
    "2. max_iter = 2500\n",
    "3. early stopping = true\n",
    "4. random state = 0\n",
    "5. solver = sgd\n",
    "6. initial learning rate = 0.01\n",
    "7. learning rate = adaptive\n",
    "8. tol = 1e-5\n",
    "9. batch size = auto\n",
    "10. momentum = 0.9\n",
    "11. nesterovs momentum = true\n",
    "\n",
    "The initial learning rate eta0=0.0011 was found to be the best learning rate after testing several values."
   ]
  },
  {
   "cell_type": "code",
   "execution_count": null,
   "metadata": {},
   "outputs": [],
   "source": [
    "from sklearn.neural_network import MLPClassifier\n",
    "import sklearn\n",
    "\n",
    "def getTrainValidationSplit(train_X, train_Y):\n",
    "    return sklearn.model_selection.train_test_split(train_X, train_Y, test_size=0.2)\n",
    "\n",
    "def nnClassification(size, train_X, test_X, train_Y, test_Y, max_iter=300):\n",
    "    nn = MLPClassifier(activation='relu', hidden_layer_sizes=(size), max_iter=max_iter, random_state=0,\n",
    "                       solver='sgd', learning_rate_init=0.01, learning_rate='adaptive', tol=1e-5)\n",
    "    nn.fit(train_X, train_Y)\n",
    "    train_pred = nn.predict(train_X)\n",
    "    test_pred = nn.predict(test_X)\n",
    "        \n",
    "    return {\"train_pred\": train_pred,\n",
    "            \"test_pred\": test_pred,\n",
    "            \"loss_curve\": nn.loss_curve_,\n",
    "            \"train_score\": nn.score(train_X, train_Y), \n",
    "            \"test_score\": nn.score(test_X, test_Y),\n",
    "            \"train_log_loss\": sklearn.metrics.log_loss(y_true=train_Y, y_pred=train_pred), \n",
    "            \"test_log_loss\": sklearn.metrics.log_loss(y_true=test_Y, y_pred=test_pred),\n",
    "            \"loss\": nn.loss_,\n",
    "            \"train_auc\": sklearn.metrics.roc_auc_score(train_Y, train_pred),\n",
    "            \"test_auc\": sklearn.metrics.roc_auc_score(test_Y, test_pred),\n",
    "            \"test_precision\": sklearn.metrics.precision_score(test_Y, test_pred),\n",
    "            \"test_recall\": sklearn.metrics.recall_score(test_Y, test_pred)}\n",
    "\n",
    "def performCrossValidation(parameters, scoring, train_X, test_X, train_Y, test_Y):\n",
    "    nn = MLPClassifier(activation='relu', max_iter=1000, random_state=0, solver='sgd', learning_rate_init=0.01, learning_rate='adaptive', tol=1e-5)\n",
    "    clf = GridSearchCV(nn, parameters, cv=5, scoring=scoring)\n",
    "    clf.fit(train_X, train_Y)\n",
    " \n",
    "    print(\"Best parameters set found on development set:\")\n",
    "    print()\n",
    "    print(clf.best_params_)\n",
    "    print()\n",
    "    print(\"Grid scores on development set:\")\n",
    "    print()\n",
    "    means = clf.cv_results_['mean_test_score']\n",
    "    stds = clf.cv_results_['std_test_score']\n",
    "    for mean, std, params in zip(means, stds, clf.cv_results_['params']):\n",
    "        print(\"%0.3f (+/-%0.03f) for %r\" % (mean, std * 2, params))\n",
    "\n",
    "    y_pred = clf.predict(test_X)\n",
    "    print(classification_report(test_Y, y_pred))\n",
    "    print()\n",
    "    \n",
    "    return {\"best_params\": clf.best_params_,\n",
    "            \"cv_results\": clf.cv_results_}\n",
    "\n",
    "def plot_grid_search(cv_results, grid_param, name_param):\n",
    "    # Get Test Scores Mean and std for each grid search\n",
    "    scores_mean = cv_results['mean_test_score']\n",
    "    scores_sd = cv_results['std_test_score']\n",
    "\n",
    "    lst = []\n",
    "    # Param1 is the X-axis, Param 2 is represented as a different curve (color line)\n",
    "    for cnt in range(len(grid_param)):\n",
    "        s = str(grid_param[cnt])\n",
    "        lst.append(s)\n",
    "        \n",
    "    plt.plot([1,2,3,4,5,6,7,8,9,10], scores_mean, '-o', label= 'test score')\n",
    "\n",
    "    plt.xlabel(name_param, fontsize=16)\n",
    "    plt.ylabel('CV Average Score', fontsize=16)\n",
    "    plt.legend(loc=\"best\", fontsize=15)\n",
    "\n",
    "    plt.grid(False)"
   ]
  },
  {
   "cell_type": "markdown",
   "metadata": {},
   "source": [
    "### Perform cross validation to find the best size for the hidden layer"
   ]
  },
  {
   "cell_type": "code",
   "execution_count": null,
   "metadata": {},
   "outputs": [],
   "source": [
    "from sklearn.model_selection import GridSearchCV\n",
    "from sklearn.metrics import classification_report\n",
    "\n",
    "parameters = [{'hidden_layer_sizes': [(1), (2), (3), (4), (5), (6), (7), (8), (9), (10)]}]\n",
    "scoring = \"accuracy\"\n",
    "\n",
    "print(\"CV for Fifa\") \n",
    "fifa_cv = timedFunc(performCrossValidation, parameters, scoring, datasets[\"fifa\"][\"train_X\"], datasets[\"fifa\"][\"test_X\"],\n",
    "                                 datasets[\"fifa\"][\"classification_train_Y\"], datasets[\"fifa\"][\"classification_test_Y\"])\n",
    "\n",
    "print(\"CV for Finance\")\n",
    "finance_cv = timedFunc(performCrossValidation, parameters, scoring, datasets[\"finance\"][\"train_X\"], datasets[\"finance\"][\"test_X\"],\n",
    "                                    datasets[\"finance\"][\"classification_train_Y\"], datasets[\"finance\"][\"classification_test_Y\"])\n",
    "\n",
    "print(\"CV for Orbits\")\n",
    "orbits_cv = timedFunc(performCrossValidation, parameters, scoring, datasets[\"orbits\"][\"train_X\"], datasets[\"orbits\"][\"test_X\"],\n",
    "                                 datasets[\"orbits\"][\"classification_train_Y\"], datasets[\"orbits\"][\"classification_test_Y\"])"
   ]
  },
  {
   "cell_type": "code",
   "execution_count": null,
   "metadata": {},
   "outputs": [],
   "source": [
    "plt.figure(figsize=(22,4))\n",
    "\n",
    "plt.subplot(\"131\")\n",
    "plt.title(\"fifa\")\n",
    "plot_grid_search(fifa_cv[\"cv_results\"], fifa_cv[\"cv_results\"]['params'], 'N Estimators')\n",
    "\n",
    "plt.subplot(\"132\")\n",
    "plt.title(\"finance\")\n",
    "plot_grid_search(finance_cv[\"cv_results\"], finance_cv[\"cv_results\"]['params'], 'N Estimators')\n",
    "\n",
    "plt.subplot(\"133\")\n",
    "plt.title(\"orbits\")\n",
    "plot_grid_search(orbits_cv[\"cv_results\"], orbits_cv[\"cv_results\"]['params'], 'N Estimators')\n",
    "\n",
    "plt.show()"
   ]
  },
  {
   "cell_type": "markdown",
   "metadata": {},
   "source": [
    "### Select the hidden layer size with the lowest loss"
   ]
  },
  {
   "cell_type": "code",
   "execution_count": null,
   "metadata": {},
   "outputs": [],
   "source": [
    "fifa_size = fifa_cv[\"best_params\"][\"hidden_layer_sizes\"]\n",
    "finance_size = finance_cv[\"best_params\"][\"hidden_layer_sizes\"]\n",
    "orbits_size = orbits_cv[\"best_params\"][\"hidden_layer_sizes\"]\n",
    "\n",
    "print(\"Hidden layer sizes with the lowest loss:\\nFifa: \" + str(fifa_size) + \"\\nFinance: \" + str(finance_size) + \"\\nOrbits: \" + str(orbits_size))"
   ]
  },
  {
   "cell_type": "code",
   "execution_count": null,
   "metadata": {},
   "outputs": [],
   "source": [
    "from sklearn.model_selection import learning_curve\n",
    "def plotLearningCurve(train_X, train_Y, size, title, ylim=None, cv=None,\n",
    "                        n_jobs=None, train_sizes=np.linspace(.1, 1.0, 5)):\n",
    "    plt.title(title)\n",
    "    if ylim is not None:\n",
    "        plt.ylim(*ylim)\n",
    "    plt.xlabel(\"Training examples\")\n",
    "    plt.ylabel(\"Score\")\n",
    "    train_sizes, train_scores, test_scores = learning_curve(\n",
    "        MLPClassifier(hidden_layer_sizes=(size), activation='relu', max_iter=3000, random_state=0, solver='sgd', learning_rate_init=0.01, learning_rate='adaptive', tol=1e-5),\n",
    "        train_X, train_Y, cv=5, n_jobs=n_jobs, train_sizes=train_sizes)\n",
    "    train_scores_mean = np.mean(train_scores, axis=1)\n",
    "    train_scores_std = np.std(train_scores, axis=1)\n",
    "    test_scores_mean = np.mean(test_scores, axis=1)\n",
    "    test_scores_std = np.std(test_scores, axis=1)\n",
    "    plt.grid()\n",
    "\n",
    "    plt.fill_between(train_sizes, train_scores_mean - train_scores_std,\n",
    "                     train_scores_mean + train_scores_std, alpha=0.1,\n",
    "                     color=\"r\")\n",
    "    plt.fill_between(train_sizes, test_scores_mean - test_scores_std,\n",
    "                     test_scores_mean + test_scores_std, alpha=0.1, color=\"g\")\n",
    "    plt.plot(train_sizes, train_scores_mean, 'o-', color=\"r\",\n",
    "             label=\"Training score\")\n",
    "    plt.plot(train_sizes, test_scores_mean, 'o-', color=\"g\",\n",
    "             label=\"Cross-validation score\")\n",
    "\n",
    "    plt.legend(loc=\"best\")\n",
    "    "
   ]
  },
  {
   "cell_type": "code",
   "execution_count": null,
   "metadata": {},
   "outputs": [],
   "source": [
    "plt.figure(figsize=(22, 4))\n",
    "\n",
    "plt.subplot(\"131\")\n",
    "plt.title(\"fifa\")\n",
    "timedFunc(plotLearningCurve, datasets[\"fifa\"][\"train_X\"], datasets[\"fifa\"][\"classification_train_Y\"], fifa_size, \"Fifa\")\n",
    "\n",
    "plt.subplot(\"132\")\n",
    "plt.title(\"finance\")\n",
    "timedFunc(plotLearningCurve, datasets[\"finance\"][\"train_X\"], datasets[\"finance\"][\"classification_train_Y\"], finance_size, \"Finance\")\n",
    "\n",
    "plt.subplot(\"133\")\n",
    "plt.title(\"orbits\")\n",
    "timedFunc(plotLearningCurve, datasets[\"orbits\"][\"train_X\"], datasets[\"orbits\"][\"classification_train_Y\"], orbits_size, \"Orbits\")"
   ]
  },
  {
   "cell_type": "markdown",
   "metadata": {},
   "source": [
    "### Train neural network on all three datasets"
   ]
  },
  {
   "cell_type": "code",
   "execution_count": null,
   "metadata": {},
   "outputs": [],
   "source": [
    "fifa_nn = timedFunc(nnClassification, fifa_size, datasets[\"fifa\"][\"train_X\"], datasets[\"fifa\"][\"test_X\"],\n",
    "                           datasets[\"fifa\"][\"classification_train_Y\"], datasets[\"fifa\"][\"classification_test_Y\"], 500)\n",
    "\n",
    "finance_nn = timedFunc(nnClassification, finance_size, datasets[\"finance\"][\"train_X\"], datasets[\"finance\"][\"test_X\"],\n",
    "                              datasets[\"finance\"][\"classification_train_Y\"], datasets[\"finance\"][\"classification_test_Y\"], 500)\n",
    "\n",
    "orbits_nn = timedFunc(nnClassification, orbits_size, datasets[\"orbits\"][\"train_X\"], datasets[\"orbits\"][\"test_X\"],\n",
    "                             datasets[\"orbits\"][\"classification_train_Y\"], datasets[\"orbits\"][\"classification_test_Y\"], 800)"
   ]
  },
  {
   "cell_type": "markdown",
   "metadata": {},
   "source": [
    "### Model training metrics"
   ]
  },
  {
   "cell_type": "code",
   "execution_count": null,
   "metadata": {},
   "outputs": [],
   "source": [
    "columns = list(list(fifa_nn.keys())[3:])\n",
    "vals = []\n",
    "vals.append(list(fifa_nn.values())[3:])\n",
    "vals.append(list(finance_nn.values())[3:])\n",
    "vals.append(list(orbits_nn.values())[3:])\n",
    "\n",
    "df = pd.DataFrame(vals, index=[\"Fifa\", \"Finance\", \"Orbits\"], columns=columns)\n",
    "df.head()"
   ]
  },
  {
   "cell_type": "markdown",
   "metadata": {},
   "source": [
    "### Plot model loss over training iterations"
   ]
  },
  {
   "cell_type": "code",
   "execution_count": null,
   "metadata": {},
   "outputs": [],
   "source": [
    "plt.figure(figsize=(18,4))\n",
    "\n",
    "plt.subplot(\"131\")\n",
    "plt.title(\"fifa\")\n",
    "plt.ylabel('Loss')\n",
    "plt.xlabel('Iterations')\n",
    "plt.plot(fifa_nn[\"loss_curve\"])\n",
    "\n",
    "plt.subplot(\"132\")\n",
    "plt.title(\"finance\")\n",
    "plt.ylabel('Loss')\n",
    "plt.xlabel('Iterations')\n",
    "plt.plot(finance_nn[\"loss_curve\"])\n",
    "\n",
    "plt.subplot(\"133\")\n",
    "plt.title(\"orbits\")\n",
    "plt.ylabel('Loss')\n",
    "plt.xlabel('Iterations')\n",
    "plt.plot(orbits_nn[\"loss_curve\"])\n",
    "\n",
    "plt.show()"
   ]
  },
  {
   "cell_type": "markdown",
   "metadata": {},
   "source": [
    "### Plot confusion matrices for the training and test sets for all datasets"
   ]
  },
  {
   "cell_type": "code",
   "execution_count": null,
   "metadata": {},
   "outputs": [],
   "source": [
    "plt.figure(figsize=(16,9))\n",
    "\n",
    "plt.subplot(\"231\")\n",
    "plotConfusionMatrix(datasets[\"fifa\"][\"classification_train_Y\"], fifa_nn[\"train_pred\"], \"fifa train\")\n",
    "plt.subplot(\"234\")\n",
    "plotConfusionMatrix(datasets[\"fifa\"][\"classification_test_Y\"], fifa_nn[\"test_pred\"], \"fifa test\")\n",
    "plt.subplot(\"232\")\n",
    "plotConfusionMatrix(datasets[\"finance\"][\"classification_train_Y\"], finance_nn[\"train_pred\"], \"finance train\")\n",
    "plt.subplot(\"235\")\n",
    "plotConfusionMatrix(datasets[\"finance\"][\"classification_test_Y\"], finance_nn[\"test_pred\"], \"finance test\")\n",
    "plt.subplot(\"233\")\n",
    "plotConfusionMatrix(datasets[\"orbits\"][\"classification_train_Y\"], orbits_nn[\"train_pred\"], \"orbits train\")\n",
    "plt.subplot(\"236\")\n",
    "plotConfusionMatrix(datasets[\"orbits\"][\"classification_test_Y\"], orbits_nn[\"test_pred\"], \"orbits test\")\n",
    "timedFunc(plt.show)"
   ]
  }
 ],
 "metadata": {
  "kernelspec": {
   "display_name": "Python 3",
   "language": "python",
   "name": "python3"
  },
  "language_info": {
   "codemirror_mode": {
    "name": "ipython",
    "version": 3
   },
   "file_extension": ".py",
   "mimetype": "text/x-python",
   "name": "python",
   "nbconvert_exporter": "python",
   "pygments_lexer": "ipython3",
   "version": "3.7.1"
  }
 },
 "nbformat": 4,
 "nbformat_minor": 2
}
